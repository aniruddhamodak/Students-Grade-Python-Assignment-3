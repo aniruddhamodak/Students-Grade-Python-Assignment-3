{
  "nbformat": 4,
  "nbformat_minor": 0,
  "metadata": {
    "colab": {
      "name": "Python_Assignment_3.ipynb",
      "provenance": [],
      "mount_file_id": "1UN4GERAOsvlstDcjTHSEjK1iRMI5fI_6",
      "authorship_tag": "ABX9TyNmzernx23as44jFPAUJt/s",
      "include_colab_link": true
    },
    "kernelspec": {
      "name": "python3",
      "display_name": "Python 3"
    }
  },
  "cells": [
    {
      "cell_type": "markdown",
      "metadata": {
        "id": "view-in-github",
        "colab_type": "text"
      },
      "source": [
        "<a href=\"https://colab.research.google.com/github/aniruddhamodak/Students-Grade-Python-Assignment-3/blob/master/Python_Assignment_3.ipynb\" target=\"_parent\"><img src=\"https://colab.research.google.com/assets/colab-badge.svg\" alt=\"Open In Colab\"/></a>"
      ]
    },
    {
      "cell_type": "code",
      "metadata": {
        "id": "_4WBCWdovPuk",
        "colab_type": "code",
        "colab": {}
      },
      "source": [
        "import pandas as pd\n",
        "\n",
        "import numpy as np\n"
      ],
      "execution_count": 0,
      "outputs": []
    },
    {
      "cell_type": "code",
      "metadata": {
        "id": "IRFr985Y_Bx_",
        "colab_type": "code",
        "colab": {}
      },
      "source": [
        "studentlist = pd.read_csv(\"/content/drive/My Drive/Python Assignment 3/Untitled folder/studentlist.csv\")\n",
        "qz1 = pd.read_csv('/content/drive/My Drive/Python Assignment 3/Untitled folder/quiz1.csv')\n",
        "qz2 = pd.read_csv(\"/content/drive/My Drive/Python Assignment 3/Untitled folder/quiz2.csv\")"
      ],
      "execution_count": 0,
      "outputs": []
    },
    {
      "cell_type": "code",
      "metadata": {
        "id": "H-1RtdkmqQK4",
        "colab_type": "code",
        "outputId": "6534edec-32de-4dc9-bef9-5df6fb08cf6c",
        "colab": {
          "base_uri": "https://localhost:8080/",
          "height": 121
        }
      },
      "source": [
        "print(studentlist.head())"
      ],
      "execution_count": 0,
      "outputs": [
        {
          "output_type": "stream",
          "text": [
            "   enrollmentnumber          admn     studentname  studentEmail\n",
            "0        1613101016  16SCSE101757   AAYUSH  TYAGI           NaN\n",
            "1        1613101026  16SCSE101415        ABHISHEK           NaN\n",
            "2        1613101051  16SCSE101222    ADITI  SINGH           NaN\n",
            "3        1613101054  16SCSE101220  ADITYA  MANKAR           NaN\n",
            "4        1613101079  16SCSE101085   AKASH  KANSAL           NaN\n"
          ],
          "name": "stdout"
        }
      ]
    },
    {
      "cell_type": "markdown",
      "metadata": {
        "id": "yZpQKTkkravV",
        "colab_type": "text"
      },
      "source": [
        "## Student Email section is contain NaN value.So dropping that coloumn & admn coloumn."
      ]
    },
    {
      "cell_type": "code",
      "metadata": {
        "id": "mJE0dGVfrRfp",
        "colab_type": "code",
        "colab": {}
      },
      "source": [
        "studentlist = studentlist.drop(columns=['admn','studentEmail'])"
      ],
      "execution_count": 0,
      "outputs": []
    },
    {
      "cell_type": "code",
      "metadata": {
        "id": "dmLZvnFcs8Dc",
        "colab_type": "code",
        "outputId": "743fbdb8-3464-4907-88d2-b5db9096070a",
        "colab": {
          "base_uri": "https://localhost:8080/",
          "height": 415
        }
      },
      "source": [
        "studentlist"
      ],
      "execution_count": 0,
      "outputs": [
        {
          "output_type": "execute_result",
          "data": {
            "text/html": [
              "<div>\n",
              "<style scoped>\n",
              "    .dataframe tbody tr th:only-of-type {\n",
              "        vertical-align: middle;\n",
              "    }\n",
              "\n",
              "    .dataframe tbody tr th {\n",
              "        vertical-align: top;\n",
              "    }\n",
              "\n",
              "    .dataframe thead th {\n",
              "        text-align: right;\n",
              "    }\n",
              "</style>\n",
              "<table border=\"1\" class=\"dataframe\">\n",
              "  <thead>\n",
              "    <tr style=\"text-align: right;\">\n",
              "      <th></th>\n",
              "      <th>enrollmentnumber</th>\n",
              "      <th>studentname</th>\n",
              "    </tr>\n",
              "  </thead>\n",
              "  <tbody>\n",
              "    <tr>\n",
              "      <th>0</th>\n",
              "      <td>1613101016</td>\n",
              "      <td>AAYUSH  TYAGI</td>\n",
              "    </tr>\n",
              "    <tr>\n",
              "      <th>1</th>\n",
              "      <td>1613101026</td>\n",
              "      <td>ABHISHEK</td>\n",
              "    </tr>\n",
              "    <tr>\n",
              "      <th>2</th>\n",
              "      <td>1613101051</td>\n",
              "      <td>ADITI  SINGH</td>\n",
              "    </tr>\n",
              "    <tr>\n",
              "      <th>3</th>\n",
              "      <td>1613101054</td>\n",
              "      <td>ADITYA  MANKAR</td>\n",
              "    </tr>\n",
              "    <tr>\n",
              "      <th>4</th>\n",
              "      <td>1613101079</td>\n",
              "      <td>AKASH  KANSAL</td>\n",
              "    </tr>\n",
              "    <tr>\n",
              "      <th>...</th>\n",
              "      <td>...</td>\n",
              "      <td>...</td>\n",
              "    </tr>\n",
              "    <tr>\n",
              "      <th>1012</th>\n",
              "      <td>1613106007</td>\n",
              "      <td>PARTH  SHUKLA</td>\n",
              "    </tr>\n",
              "    <tr>\n",
              "      <th>1013</th>\n",
              "      <td>1613106009</td>\n",
              "      <td>ROBIN  SHARMA</td>\n",
              "    </tr>\n",
              "    <tr>\n",
              "      <th>1014</th>\n",
              "      <td>1613106010</td>\n",
              "      <td>SHITIKANT  PRIYANSHU</td>\n",
              "    </tr>\n",
              "    <tr>\n",
              "      <th>1015</th>\n",
              "      <td>1613106011</td>\n",
              "      <td>SHREYANSH  KUMAR</td>\n",
              "    </tr>\n",
              "    <tr>\n",
              "      <th>1016</th>\n",
              "      <td>1613106013</td>\n",
              "      <td>SWARNIM  TRIPATHI</td>\n",
              "    </tr>\n",
              "  </tbody>\n",
              "</table>\n",
              "<p>1017 rows × 2 columns</p>\n",
              "</div>"
            ],
            "text/plain": [
              "      enrollmentnumber           studentname\n",
              "0           1613101016         AAYUSH  TYAGI\n",
              "1           1613101026              ABHISHEK\n",
              "2           1613101051          ADITI  SINGH\n",
              "3           1613101054        ADITYA  MANKAR\n",
              "4           1613101079         AKASH  KANSAL\n",
              "...                ...                   ...\n",
              "1012        1613106007         PARTH  SHUKLA\n",
              "1013        1613106009         ROBIN  SHARMA\n",
              "1014        1613106010  SHITIKANT  PRIYANSHU\n",
              "1015        1613106011      SHREYANSH  KUMAR\n",
              "1016        1613106013     SWARNIM  TRIPATHI\n",
              "\n",
              "[1017 rows x 2 columns]"
            ]
          },
          "metadata": {
            "tags": []
          },
          "execution_count": 94
        }
      ]
    },
    {
      "cell_type": "code",
      "metadata": {
        "id": "gGznSHQGs_vn",
        "colab_type": "code",
        "outputId": "068289b1-2735-45f5-8751-56e55f33a4a5",
        "colab": {
          "base_uri": "https://localhost:8080/",
          "height": 306
        }
      },
      "source": [
        "qz1.head()"
      ],
      "execution_count": 0,
      "outputs": [
        {
          "output_type": "execute_result",
          "data": {
            "text/html": [
              "<div>\n",
              "<style scoped>\n",
              "    .dataframe tbody tr th:only-of-type {\n",
              "        vertical-align: middle;\n",
              "    }\n",
              "\n",
              "    .dataframe tbody tr th {\n",
              "        vertical-align: top;\n",
              "    }\n",
              "\n",
              "    .dataframe thead th {\n",
              "        text-align: right;\n",
              "    }\n",
              "</style>\n",
              "<table border=\"1\" class=\"dataframe\">\n",
              "  <thead>\n",
              "    <tr style=\"text-align: right;\">\n",
              "      <th></th>\n",
              "      <th>Surname</th>\n",
              "      <th>Firstname</th>\n",
              "      <th>ID number</th>\n",
              "      <th>Institution</th>\n",
              "      <th>Department</th>\n",
              "      <th>Email address</th>\n",
              "      <th>State</th>\n",
              "      <th>Started on</th>\n",
              "      <th>Completed</th>\n",
              "      <th>Time taken</th>\n",
              "      <th>Grade/10.00</th>\n",
              "    </tr>\n",
              "  </thead>\n",
              "  <tbody>\n",
              "    <tr>\n",
              "      <th>0</th>\n",
              "      <td>16BTCSES11</td>\n",
              "      <td>SIDDHANT  GUPTA</td>\n",
              "      <td>NaN</td>\n",
              "      <td>NaN</td>\n",
              "      <td>NaN</td>\n",
              "      <td>NaN</td>\n",
              "      <td>Finished</td>\n",
              "      <td>08-02-2019 09:57</td>\n",
              "      <td>08-02-2019 10:11</td>\n",
              "      <td>14 mins 1 sec</td>\n",
              "      <td>4</td>\n",
              "    </tr>\n",
              "    <tr>\n",
              "      <th>1</th>\n",
              "      <td>16BTCSES11</td>\n",
              "      <td>ARPIT  SHARMA</td>\n",
              "      <td>NaN</td>\n",
              "      <td>NaN</td>\n",
              "      <td>NaN</td>\n",
              "      <td>NaN</td>\n",
              "      <td>Finished</td>\n",
              "      <td>08-02-2019 09:57</td>\n",
              "      <td>08-02-2019 10:11</td>\n",
              "      <td>14 mins 5 secs</td>\n",
              "      <td>5</td>\n",
              "    </tr>\n",
              "    <tr>\n",
              "      <th>2</th>\n",
              "      <td>16BTCSES11</td>\n",
              "      <td>VISHAL  SINGH</td>\n",
              "      <td>NaN</td>\n",
              "      <td>NaN</td>\n",
              "      <td>NaN</td>\n",
              "      <td>NaN</td>\n",
              "      <td>Finished</td>\n",
              "      <td>08-02-2019 09:57</td>\n",
              "      <td>14-02-2019 10:10</td>\n",
              "      <td>6 days</td>\n",
              "      <td>7</td>\n",
              "    </tr>\n",
              "    <tr>\n",
              "      <th>3</th>\n",
              "      <td>16BTCSES11</td>\n",
              "      <td>AKASH  YADAV</td>\n",
              "      <td>NaN</td>\n",
              "      <td>NaN</td>\n",
              "      <td>NaN</td>\n",
              "      <td>NaN</td>\n",
              "      <td>Finished</td>\n",
              "      <td>08-02-2019 09:57</td>\n",
              "      <td>14-02-2019 12:03</td>\n",
              "      <td>6 days 2 hours</td>\n",
              "      <td>9</td>\n",
              "    </tr>\n",
              "    <tr>\n",
              "      <th>4</th>\n",
              "      <td>16BTCSES11</td>\n",
              "      <td>MANISH  SAHANI</td>\n",
              "      <td>NaN</td>\n",
              "      <td>NaN</td>\n",
              "      <td>NaN</td>\n",
              "      <td>NaN</td>\n",
              "      <td>Finished</td>\n",
              "      <td>08-02-2019 09:57</td>\n",
              "      <td>08-02-2019 23:09</td>\n",
              "      <td>13 hours 11 mins</td>\n",
              "      <td>7</td>\n",
              "    </tr>\n",
              "  </tbody>\n",
              "</table>\n",
              "</div>"
            ],
            "text/plain": [
              "      Surname        Firstname  ...        Time taken Grade/10.00\n",
              "0  16BTCSES11  SIDDHANT  GUPTA  ...     14 mins 1 sec           4\n",
              "1  16BTCSES11    ARPIT  SHARMA  ...    14 mins 5 secs           5\n",
              "2  16BTCSES11    VISHAL  SINGH  ...            6 days           7\n",
              "3  16BTCSES11     AKASH  YADAV  ...    6 days 2 hours           9\n",
              "4  16BTCSES11   MANISH  SAHANI  ...  13 hours 11 mins           7\n",
              "\n",
              "[5 rows x 11 columns]"
            ]
          },
          "metadata": {
            "tags": []
          },
          "execution_count": 95
        }
      ]
    },
    {
      "cell_type": "markdown",
      "metadata": {
        "id": "Ky_DlJU7j_JU",
        "colab_type": "text"
      },
      "source": [
        "### **Dropping unwanted columns and NaN valuse**"
      ]
    },
    {
      "cell_type": "code",
      "metadata": {
        "id": "8pn03sVWj4IG",
        "colab_type": "code",
        "colab": {}
      },
      "source": [
        "qz1 = qz1.drop(columns=['Surname','ID number','Institution','Department','Email address','Started on','Completed','State'])"
      ],
      "execution_count": 0,
      "outputs": []
    },
    {
      "cell_type": "code",
      "metadata": {
        "id": "19rUD5Ojlemf",
        "colab_type": "code",
        "outputId": "558a09d5-bf65-457f-feda-96aeaec199b2",
        "colab": {
          "base_uri": "https://localhost:8080/",
          "height": 202
        }
      },
      "source": [
        "qz1.head()"
      ],
      "execution_count": 0,
      "outputs": [
        {
          "output_type": "execute_result",
          "data": {
            "text/html": [
              "<div>\n",
              "<style scoped>\n",
              "    .dataframe tbody tr th:only-of-type {\n",
              "        vertical-align: middle;\n",
              "    }\n",
              "\n",
              "    .dataframe tbody tr th {\n",
              "        vertical-align: top;\n",
              "    }\n",
              "\n",
              "    .dataframe thead th {\n",
              "        text-align: right;\n",
              "    }\n",
              "</style>\n",
              "<table border=\"1\" class=\"dataframe\">\n",
              "  <thead>\n",
              "    <tr style=\"text-align: right;\">\n",
              "      <th></th>\n",
              "      <th>Firstname</th>\n",
              "      <th>Time taken</th>\n",
              "      <th>Grade/10.00</th>\n",
              "    </tr>\n",
              "  </thead>\n",
              "  <tbody>\n",
              "    <tr>\n",
              "      <th>0</th>\n",
              "      <td>SIDDHANT  GUPTA</td>\n",
              "      <td>14 mins 1 sec</td>\n",
              "      <td>4</td>\n",
              "    </tr>\n",
              "    <tr>\n",
              "      <th>1</th>\n",
              "      <td>ARPIT  SHARMA</td>\n",
              "      <td>14 mins 5 secs</td>\n",
              "      <td>5</td>\n",
              "    </tr>\n",
              "    <tr>\n",
              "      <th>2</th>\n",
              "      <td>VISHAL  SINGH</td>\n",
              "      <td>6 days</td>\n",
              "      <td>7</td>\n",
              "    </tr>\n",
              "    <tr>\n",
              "      <th>3</th>\n",
              "      <td>AKASH  YADAV</td>\n",
              "      <td>6 days 2 hours</td>\n",
              "      <td>9</td>\n",
              "    </tr>\n",
              "    <tr>\n",
              "      <th>4</th>\n",
              "      <td>MANISH  SAHANI</td>\n",
              "      <td>13 hours 11 mins</td>\n",
              "      <td>7</td>\n",
              "    </tr>\n",
              "  </tbody>\n",
              "</table>\n",
              "</div>"
            ],
            "text/plain": [
              "         Firstname        Time taken Grade/10.00\n",
              "0  SIDDHANT  GUPTA     14 mins 1 sec           4\n",
              "1    ARPIT  SHARMA    14 mins 5 secs           5\n",
              "2    VISHAL  SINGH            6 days           7\n",
              "3     AKASH  YADAV    6 days 2 hours           9\n",
              "4   MANISH  SAHANI  13 hours 11 mins           7"
            ]
          },
          "metadata": {
            "tags": []
          },
          "execution_count": 97
        }
      ]
    },
    {
      "cell_type": "code",
      "metadata": {
        "id": "CHSIGnpQlhcT",
        "colab_type": "code",
        "colab": {}
      },
      "source": [
        "qz2 = qz2.drop(columns=['Surname','ID number','Institution','Department','Email address','Started on','Completed','State'])"
      ],
      "execution_count": 0,
      "outputs": []
    },
    {
      "cell_type": "code",
      "metadata": {
        "id": "mozClGnRmN_9",
        "colab_type": "code",
        "outputId": "0663b651-ffa9-4bf4-e7d3-2fbb5d35bf6f",
        "colab": {
          "base_uri": "https://localhost:8080/",
          "height": 202
        }
      },
      "source": [
        "qz2.head()"
      ],
      "execution_count": 0,
      "outputs": [
        {
          "output_type": "execute_result",
          "data": {
            "text/html": [
              "<div>\n",
              "<style scoped>\n",
              "    .dataframe tbody tr th:only-of-type {\n",
              "        vertical-align: middle;\n",
              "    }\n",
              "\n",
              "    .dataframe tbody tr th {\n",
              "        vertical-align: top;\n",
              "    }\n",
              "\n",
              "    .dataframe thead th {\n",
              "        text-align: right;\n",
              "    }\n",
              "</style>\n",
              "<table border=\"1\" class=\"dataframe\">\n",
              "  <thead>\n",
              "    <tr style=\"text-align: right;\">\n",
              "      <th></th>\n",
              "      <th>Firstname</th>\n",
              "      <th>Time taken</th>\n",
              "      <th>Grade/10.00</th>\n",
              "    </tr>\n",
              "  </thead>\n",
              "  <tbody>\n",
              "    <tr>\n",
              "      <th>0</th>\n",
              "      <td>VEER SINGH GURJAR</td>\n",
              "      <td>8 mins 8 secs</td>\n",
              "      <td>4</td>\n",
              "    </tr>\n",
              "    <tr>\n",
              "      <th>1</th>\n",
              "      <td>PRANSHU  VERMA</td>\n",
              "      <td>14 mins 41 secs</td>\n",
              "      <td>10</td>\n",
              "    </tr>\n",
              "    <tr>\n",
              "      <th>2</th>\n",
              "      <td>EJAZ  BAKHSH</td>\n",
              "      <td>15 mins 18 secs</td>\n",
              "      <td>4</td>\n",
              "    </tr>\n",
              "    <tr>\n",
              "      <th>3</th>\n",
              "      <td>MOHD  FAIZ</td>\n",
              "      <td>19 mins 2 secs</td>\n",
              "      <td>10</td>\n",
              "    </tr>\n",
              "    <tr>\n",
              "      <th>4</th>\n",
              "      <td>ANISH  SINGH</td>\n",
              "      <td>9 mins 1 sec</td>\n",
              "      <td>10</td>\n",
              "    </tr>\n",
              "  </tbody>\n",
              "</table>\n",
              "</div>"
            ],
            "text/plain": [
              "           Firstname       Time taken Grade/10.00\n",
              "0  VEER SINGH GURJAR    8 mins 8 secs           4\n",
              "1     PRANSHU  VERMA  14 mins 41 secs          10\n",
              "2       EJAZ  BAKHSH  15 mins 18 secs           4\n",
              "3         MOHD  FAIZ   19 mins 2 secs          10\n",
              "4       ANISH  SINGH     9 mins 1 sec          10"
            ]
          },
          "metadata": {
            "tags": []
          },
          "execution_count": 99
        }
      ]
    },
    {
      "cell_type": "code",
      "metadata": {
        "id": "5gtvZ5JSpkVE",
        "colab_type": "code",
        "colab": {}
      },
      "source": [
        "studentgrade1 = pd.merge(studentlist,qz1,left_on='studentname',right_on='Firstname')\n"
      ],
      "execution_count": 0,
      "outputs": []
    },
    {
      "cell_type": "code",
      "metadata": {
        "id": "B-sEmDpkm_ux",
        "colab_type": "code",
        "outputId": "e5683822-203e-41bd-ca31-df49eaa251d6",
        "colab": {
          "base_uri": "https://localhost:8080/",
          "height": 415
        }
      },
      "source": [
        "studentgrade1"
      ],
      "execution_count": 0,
      "outputs": [
        {
          "output_type": "execute_result",
          "data": {
            "text/html": [
              "<div>\n",
              "<style scoped>\n",
              "    .dataframe tbody tr th:only-of-type {\n",
              "        vertical-align: middle;\n",
              "    }\n",
              "\n",
              "    .dataframe tbody tr th {\n",
              "        vertical-align: top;\n",
              "    }\n",
              "\n",
              "    .dataframe thead th {\n",
              "        text-align: right;\n",
              "    }\n",
              "</style>\n",
              "<table border=\"1\" class=\"dataframe\">\n",
              "  <thead>\n",
              "    <tr style=\"text-align: right;\">\n",
              "      <th></th>\n",
              "      <th>enrollmentnumber</th>\n",
              "      <th>studentname</th>\n",
              "      <th>Firstname</th>\n",
              "      <th>Time taken</th>\n",
              "      <th>Grade/10.00</th>\n",
              "    </tr>\n",
              "  </thead>\n",
              "  <tbody>\n",
              "    <tr>\n",
              "      <th>0</th>\n",
              "      <td>1613101016</td>\n",
              "      <td>AAYUSH  TYAGI</td>\n",
              "      <td>AAYUSH  TYAGI</td>\n",
              "      <td>7 mins 14 secs</td>\n",
              "      <td>5</td>\n",
              "    </tr>\n",
              "    <tr>\n",
              "      <th>1</th>\n",
              "      <td>1613101026</td>\n",
              "      <td>ABHISHEK</td>\n",
              "      <td>ABHISHEK</td>\n",
              "      <td>15 mins 41 secs</td>\n",
              "      <td>7</td>\n",
              "    </tr>\n",
              "    <tr>\n",
              "      <th>2</th>\n",
              "      <td>1613101051</td>\n",
              "      <td>ADITI  SINGH</td>\n",
              "      <td>ADITI  SINGH</td>\n",
              "      <td>16 mins 52 secs</td>\n",
              "      <td>5</td>\n",
              "    </tr>\n",
              "    <tr>\n",
              "      <th>3</th>\n",
              "      <td>1613101054</td>\n",
              "      <td>ADITYA  MANKAR</td>\n",
              "      <td>ADITYA  MANKAR</td>\n",
              "      <td>16 mins 59 secs</td>\n",
              "      <td>7</td>\n",
              "    </tr>\n",
              "    <tr>\n",
              "      <th>4</th>\n",
              "      <td>1613101106</td>\n",
              "      <td>Aman  Pandey</td>\n",
              "      <td>Aman  Pandey</td>\n",
              "      <td>6 mins 29 secs</td>\n",
              "      <td>5</td>\n",
              "    </tr>\n",
              "    <tr>\n",
              "      <th>...</th>\n",
              "      <td>...</td>\n",
              "      <td>...</td>\n",
              "      <td>...</td>\n",
              "      <td>...</td>\n",
              "      <td>...</td>\n",
              "    </tr>\n",
              "    <tr>\n",
              "      <th>652</th>\n",
              "      <td>1613113014</td>\n",
              "      <td>VINOD  KUMAR</td>\n",
              "      <td>VINOD  KUMAR</td>\n",
              "      <td>21 mins 55 secs</td>\n",
              "      <td>4</td>\n",
              "    </tr>\n",
              "    <tr>\n",
              "      <th>653</th>\n",
              "      <td>1613106002</td>\n",
              "      <td>Akash  Kumar</td>\n",
              "      <td>Akash  Kumar</td>\n",
              "      <td>27 mins 58 secs</td>\n",
              "      <td>7</td>\n",
              "    </tr>\n",
              "    <tr>\n",
              "      <th>654</th>\n",
              "      <td>1613106003</td>\n",
              "      <td>AVINASH KUMAR JAISWAL</td>\n",
              "      <td>AVINASH KUMAR JAISWAL</td>\n",
              "      <td>5 mins 43 secs</td>\n",
              "      <td>10</td>\n",
              "    </tr>\n",
              "    <tr>\n",
              "      <th>655</th>\n",
              "      <td>1613106005</td>\n",
              "      <td>MAYANK  JAIN</td>\n",
              "      <td>MAYANK  JAIN</td>\n",
              "      <td>33 mins 57 secs</td>\n",
              "      <td>8</td>\n",
              "    </tr>\n",
              "    <tr>\n",
              "      <th>656</th>\n",
              "      <td>1613106009</td>\n",
              "      <td>ROBIN  SHARMA</td>\n",
              "      <td>ROBIN  SHARMA</td>\n",
              "      <td>39 mins 44 secs</td>\n",
              "      <td>7</td>\n",
              "    </tr>\n",
              "  </tbody>\n",
              "</table>\n",
              "<p>657 rows × 5 columns</p>\n",
              "</div>"
            ],
            "text/plain": [
              "     enrollmentnumber            studentname  ...       Time taken Grade/10.00\n",
              "0          1613101016          AAYUSH  TYAGI  ...   7 mins 14 secs           5\n",
              "1          1613101026               ABHISHEK  ...  15 mins 41 secs           7\n",
              "2          1613101051           ADITI  SINGH  ...  16 mins 52 secs           5\n",
              "3          1613101054         ADITYA  MANKAR  ...  16 mins 59 secs           7\n",
              "4          1613101106           Aman  Pandey  ...   6 mins 29 secs           5\n",
              "..                ...                    ...  ...              ...         ...\n",
              "652        1613113014           VINOD  KUMAR  ...  21 mins 55 secs           4\n",
              "653        1613106002           Akash  Kumar  ...  27 mins 58 secs           7\n",
              "654        1613106003  AVINASH KUMAR JAISWAL  ...   5 mins 43 secs          10\n",
              "655        1613106005           MAYANK  JAIN  ...  33 mins 57 secs           8\n",
              "656        1613106009          ROBIN  SHARMA  ...  39 mins 44 secs           7\n",
              "\n",
              "[657 rows x 5 columns]"
            ]
          },
          "metadata": {
            "tags": []
          },
          "execution_count": 101
        }
      ]
    },
    {
      "cell_type": "code",
      "metadata": {
        "id": "vmAAFEUDovrA",
        "colab_type": "code",
        "colab": {}
      },
      "source": [
        "studentgrade1.drop(columns= 'Firstname', inplace=True)"
      ],
      "execution_count": 0,
      "outputs": []
    },
    {
      "cell_type": "code",
      "metadata": {
        "id": "aJfo-3L0rMIx",
        "colab_type": "code",
        "outputId": "6781dfa0-bc83-43f8-d389-fc77cdea7055",
        "colab": {
          "base_uri": "https://localhost:8080/",
          "height": 415
        }
      },
      "source": [
        "studentgrade1"
      ],
      "execution_count": 0,
      "outputs": [
        {
          "output_type": "execute_result",
          "data": {
            "text/html": [
              "<div>\n",
              "<style scoped>\n",
              "    .dataframe tbody tr th:only-of-type {\n",
              "        vertical-align: middle;\n",
              "    }\n",
              "\n",
              "    .dataframe tbody tr th {\n",
              "        vertical-align: top;\n",
              "    }\n",
              "\n",
              "    .dataframe thead th {\n",
              "        text-align: right;\n",
              "    }\n",
              "</style>\n",
              "<table border=\"1\" class=\"dataframe\">\n",
              "  <thead>\n",
              "    <tr style=\"text-align: right;\">\n",
              "      <th></th>\n",
              "      <th>enrollmentnumber</th>\n",
              "      <th>studentname</th>\n",
              "      <th>Time taken</th>\n",
              "      <th>Grade/10.00</th>\n",
              "    </tr>\n",
              "  </thead>\n",
              "  <tbody>\n",
              "    <tr>\n",
              "      <th>0</th>\n",
              "      <td>1613101016</td>\n",
              "      <td>AAYUSH  TYAGI</td>\n",
              "      <td>7 mins 14 secs</td>\n",
              "      <td>5</td>\n",
              "    </tr>\n",
              "    <tr>\n",
              "      <th>1</th>\n",
              "      <td>1613101026</td>\n",
              "      <td>ABHISHEK</td>\n",
              "      <td>15 mins 41 secs</td>\n",
              "      <td>7</td>\n",
              "    </tr>\n",
              "    <tr>\n",
              "      <th>2</th>\n",
              "      <td>1613101051</td>\n",
              "      <td>ADITI  SINGH</td>\n",
              "      <td>16 mins 52 secs</td>\n",
              "      <td>5</td>\n",
              "    </tr>\n",
              "    <tr>\n",
              "      <th>3</th>\n",
              "      <td>1613101054</td>\n",
              "      <td>ADITYA  MANKAR</td>\n",
              "      <td>16 mins 59 secs</td>\n",
              "      <td>7</td>\n",
              "    </tr>\n",
              "    <tr>\n",
              "      <th>4</th>\n",
              "      <td>1613101106</td>\n",
              "      <td>Aman  Pandey</td>\n",
              "      <td>6 mins 29 secs</td>\n",
              "      <td>5</td>\n",
              "    </tr>\n",
              "    <tr>\n",
              "      <th>...</th>\n",
              "      <td>...</td>\n",
              "      <td>...</td>\n",
              "      <td>...</td>\n",
              "      <td>...</td>\n",
              "    </tr>\n",
              "    <tr>\n",
              "      <th>652</th>\n",
              "      <td>1613113014</td>\n",
              "      <td>VINOD  KUMAR</td>\n",
              "      <td>21 mins 55 secs</td>\n",
              "      <td>4</td>\n",
              "    </tr>\n",
              "    <tr>\n",
              "      <th>653</th>\n",
              "      <td>1613106002</td>\n",
              "      <td>Akash  Kumar</td>\n",
              "      <td>27 mins 58 secs</td>\n",
              "      <td>7</td>\n",
              "    </tr>\n",
              "    <tr>\n",
              "      <th>654</th>\n",
              "      <td>1613106003</td>\n",
              "      <td>AVINASH KUMAR JAISWAL</td>\n",
              "      <td>5 mins 43 secs</td>\n",
              "      <td>10</td>\n",
              "    </tr>\n",
              "    <tr>\n",
              "      <th>655</th>\n",
              "      <td>1613106005</td>\n",
              "      <td>MAYANK  JAIN</td>\n",
              "      <td>33 mins 57 secs</td>\n",
              "      <td>8</td>\n",
              "    </tr>\n",
              "    <tr>\n",
              "      <th>656</th>\n",
              "      <td>1613106009</td>\n",
              "      <td>ROBIN  SHARMA</td>\n",
              "      <td>39 mins 44 secs</td>\n",
              "      <td>7</td>\n",
              "    </tr>\n",
              "  </tbody>\n",
              "</table>\n",
              "<p>657 rows × 4 columns</p>\n",
              "</div>"
            ],
            "text/plain": [
              "     enrollmentnumber            studentname       Time taken Grade/10.00\n",
              "0          1613101016          AAYUSH  TYAGI   7 mins 14 secs           5\n",
              "1          1613101026               ABHISHEK  15 mins 41 secs           7\n",
              "2          1613101051           ADITI  SINGH  16 mins 52 secs           5\n",
              "3          1613101054         ADITYA  MANKAR  16 mins 59 secs           7\n",
              "4          1613101106           Aman  Pandey   6 mins 29 secs           5\n",
              "..                ...                    ...              ...         ...\n",
              "652        1613113014           VINOD  KUMAR  21 mins 55 secs           4\n",
              "653        1613106002           Akash  Kumar  27 mins 58 secs           7\n",
              "654        1613106003  AVINASH KUMAR JAISWAL   5 mins 43 secs          10\n",
              "655        1613106005           MAYANK  JAIN  33 mins 57 secs           8\n",
              "656        1613106009          ROBIN  SHARMA  39 mins 44 secs           7\n",
              "\n",
              "[657 rows x 4 columns]"
            ]
          },
          "metadata": {
            "tags": []
          },
          "execution_count": 103
        }
      ]
    },
    {
      "cell_type": "code",
      "metadata": {
        "id": "qPWHASzUtARL",
        "colab_type": "code",
        "colab": {}
      },
      "source": [
        "studentgrade2 = pd.merge(studentlist,qz2,left_on='studentname',right_on='Firstname')"
      ],
      "execution_count": 0,
      "outputs": []
    },
    {
      "cell_type": "code",
      "metadata": {
        "id": "kBN9U8J5tD_l",
        "colab_type": "code",
        "outputId": "c93a881c-ff38-4ba3-d72b-8134347fd822",
        "colab": {
          "base_uri": "https://localhost:8080/",
          "height": 415
        }
      },
      "source": [
        "studentgrade2"
      ],
      "execution_count": 0,
      "outputs": [
        {
          "output_type": "execute_result",
          "data": {
            "text/html": [
              "<div>\n",
              "<style scoped>\n",
              "    .dataframe tbody tr th:only-of-type {\n",
              "        vertical-align: middle;\n",
              "    }\n",
              "\n",
              "    .dataframe tbody tr th {\n",
              "        vertical-align: top;\n",
              "    }\n",
              "\n",
              "    .dataframe thead th {\n",
              "        text-align: right;\n",
              "    }\n",
              "</style>\n",
              "<table border=\"1\" class=\"dataframe\">\n",
              "  <thead>\n",
              "    <tr style=\"text-align: right;\">\n",
              "      <th></th>\n",
              "      <th>enrollmentnumber</th>\n",
              "      <th>studentname</th>\n",
              "      <th>Firstname</th>\n",
              "      <th>Time taken</th>\n",
              "      <th>Grade/10.00</th>\n",
              "    </tr>\n",
              "  </thead>\n",
              "  <tbody>\n",
              "    <tr>\n",
              "      <th>0</th>\n",
              "      <td>1613101016</td>\n",
              "      <td>AAYUSH  TYAGI</td>\n",
              "      <td>AAYUSH  TYAGI</td>\n",
              "      <td>3 mins 11 secs</td>\n",
              "      <td>10</td>\n",
              "    </tr>\n",
              "    <tr>\n",
              "      <th>1</th>\n",
              "      <td>1613101026</td>\n",
              "      <td>ABHISHEK</td>\n",
              "      <td>ABHISHEK</td>\n",
              "      <td>17 mins 58 secs</td>\n",
              "      <td>10</td>\n",
              "    </tr>\n",
              "    <tr>\n",
              "      <th>2</th>\n",
              "      <td>1613101051</td>\n",
              "      <td>ADITI  SINGH</td>\n",
              "      <td>ADITI  SINGH</td>\n",
              "      <td>13 mins 35 secs</td>\n",
              "      <td>9</td>\n",
              "    </tr>\n",
              "    <tr>\n",
              "      <th>3</th>\n",
              "      <td>1613101054</td>\n",
              "      <td>ADITYA  MANKAR</td>\n",
              "      <td>ADITYA  MANKAR</td>\n",
              "      <td>12 mins 18 secs</td>\n",
              "      <td>8</td>\n",
              "    </tr>\n",
              "    <tr>\n",
              "      <th>4</th>\n",
              "      <td>1613101106</td>\n",
              "      <td>Aman  Pandey</td>\n",
              "      <td>Aman  Pandey</td>\n",
              "      <td>2 mins 35 secs</td>\n",
              "      <td>10</td>\n",
              "    </tr>\n",
              "    <tr>\n",
              "      <th>...</th>\n",
              "      <td>...</td>\n",
              "      <td>...</td>\n",
              "      <td>...</td>\n",
              "      <td>...</td>\n",
              "      <td>...</td>\n",
              "    </tr>\n",
              "    <tr>\n",
              "      <th>671</th>\n",
              "      <td>1613106005</td>\n",
              "      <td>MAYANK  JAIN</td>\n",
              "      <td>MAYANK  JAIN</td>\n",
              "      <td>8 mins 49 secs</td>\n",
              "      <td>10</td>\n",
              "    </tr>\n",
              "    <tr>\n",
              "      <th>672</th>\n",
              "      <td>1613106007</td>\n",
              "      <td>PARTH  SHUKLA</td>\n",
              "      <td>PARTH  SHUKLA</td>\n",
              "      <td>8 mins 47 secs</td>\n",
              "      <td>2</td>\n",
              "    </tr>\n",
              "    <tr>\n",
              "      <th>673</th>\n",
              "      <td>1613106009</td>\n",
              "      <td>ROBIN  SHARMA</td>\n",
              "      <td>ROBIN  SHARMA</td>\n",
              "      <td>10 mins 52 secs</td>\n",
              "      <td>7</td>\n",
              "    </tr>\n",
              "    <tr>\n",
              "      <th>674</th>\n",
              "      <td>1613106011</td>\n",
              "      <td>SHREYANSH  KUMAR</td>\n",
              "      <td>SHREYANSH  KUMAR</td>\n",
              "      <td>5 mins 44 secs</td>\n",
              "      <td>6</td>\n",
              "    </tr>\n",
              "    <tr>\n",
              "      <th>675</th>\n",
              "      <td>1613106013</td>\n",
              "      <td>SWARNIM  TRIPATHI</td>\n",
              "      <td>SWARNIM  TRIPATHI</td>\n",
              "      <td>10 mins 2 secs</td>\n",
              "      <td>8</td>\n",
              "    </tr>\n",
              "  </tbody>\n",
              "</table>\n",
              "<p>676 rows × 5 columns</p>\n",
              "</div>"
            ],
            "text/plain": [
              "     enrollmentnumber        studentname  ...       Time taken Grade/10.00\n",
              "0          1613101016      AAYUSH  TYAGI  ...   3 mins 11 secs          10\n",
              "1          1613101026           ABHISHEK  ...  17 mins 58 secs          10\n",
              "2          1613101051       ADITI  SINGH  ...  13 mins 35 secs           9\n",
              "3          1613101054     ADITYA  MANKAR  ...  12 mins 18 secs           8\n",
              "4          1613101106       Aman  Pandey  ...   2 mins 35 secs          10\n",
              "..                ...                ...  ...              ...         ...\n",
              "671        1613106005       MAYANK  JAIN  ...   8 mins 49 secs          10\n",
              "672        1613106007      PARTH  SHUKLA  ...   8 mins 47 secs           2\n",
              "673        1613106009      ROBIN  SHARMA  ...  10 mins 52 secs           7\n",
              "674        1613106011   SHREYANSH  KUMAR  ...   5 mins 44 secs           6\n",
              "675        1613106013  SWARNIM  TRIPATHI  ...   10 mins 2 secs           8\n",
              "\n",
              "[676 rows x 5 columns]"
            ]
          },
          "metadata": {
            "tags": []
          },
          "execution_count": 105
        }
      ]
    },
    {
      "cell_type": "code",
      "metadata": {
        "id": "kxXMFQa7tDx4",
        "colab_type": "code",
        "outputId": "61e993c0-e3b2-4d05-f618-345719226085",
        "colab": {
          "base_uri": "https://localhost:8080/",
          "height": 415
        }
      },
      "source": [
        "studentgrade2.drop(columns= 'Firstname', inplace=True)\n",
        "studentgrade2"
      ],
      "execution_count": 0,
      "outputs": [
        {
          "output_type": "execute_result",
          "data": {
            "text/html": [
              "<div>\n",
              "<style scoped>\n",
              "    .dataframe tbody tr th:only-of-type {\n",
              "        vertical-align: middle;\n",
              "    }\n",
              "\n",
              "    .dataframe tbody tr th {\n",
              "        vertical-align: top;\n",
              "    }\n",
              "\n",
              "    .dataframe thead th {\n",
              "        text-align: right;\n",
              "    }\n",
              "</style>\n",
              "<table border=\"1\" class=\"dataframe\">\n",
              "  <thead>\n",
              "    <tr style=\"text-align: right;\">\n",
              "      <th></th>\n",
              "      <th>enrollmentnumber</th>\n",
              "      <th>studentname</th>\n",
              "      <th>Time taken</th>\n",
              "      <th>Grade/10.00</th>\n",
              "    </tr>\n",
              "  </thead>\n",
              "  <tbody>\n",
              "    <tr>\n",
              "      <th>0</th>\n",
              "      <td>1613101016</td>\n",
              "      <td>AAYUSH  TYAGI</td>\n",
              "      <td>3 mins 11 secs</td>\n",
              "      <td>10</td>\n",
              "    </tr>\n",
              "    <tr>\n",
              "      <th>1</th>\n",
              "      <td>1613101026</td>\n",
              "      <td>ABHISHEK</td>\n",
              "      <td>17 mins 58 secs</td>\n",
              "      <td>10</td>\n",
              "    </tr>\n",
              "    <tr>\n",
              "      <th>2</th>\n",
              "      <td>1613101051</td>\n",
              "      <td>ADITI  SINGH</td>\n",
              "      <td>13 mins 35 secs</td>\n",
              "      <td>9</td>\n",
              "    </tr>\n",
              "    <tr>\n",
              "      <th>3</th>\n",
              "      <td>1613101054</td>\n",
              "      <td>ADITYA  MANKAR</td>\n",
              "      <td>12 mins 18 secs</td>\n",
              "      <td>8</td>\n",
              "    </tr>\n",
              "    <tr>\n",
              "      <th>4</th>\n",
              "      <td>1613101106</td>\n",
              "      <td>Aman  Pandey</td>\n",
              "      <td>2 mins 35 secs</td>\n",
              "      <td>10</td>\n",
              "    </tr>\n",
              "    <tr>\n",
              "      <th>...</th>\n",
              "      <td>...</td>\n",
              "      <td>...</td>\n",
              "      <td>...</td>\n",
              "      <td>...</td>\n",
              "    </tr>\n",
              "    <tr>\n",
              "      <th>671</th>\n",
              "      <td>1613106005</td>\n",
              "      <td>MAYANK  JAIN</td>\n",
              "      <td>8 mins 49 secs</td>\n",
              "      <td>10</td>\n",
              "    </tr>\n",
              "    <tr>\n",
              "      <th>672</th>\n",
              "      <td>1613106007</td>\n",
              "      <td>PARTH  SHUKLA</td>\n",
              "      <td>8 mins 47 secs</td>\n",
              "      <td>2</td>\n",
              "    </tr>\n",
              "    <tr>\n",
              "      <th>673</th>\n",
              "      <td>1613106009</td>\n",
              "      <td>ROBIN  SHARMA</td>\n",
              "      <td>10 mins 52 secs</td>\n",
              "      <td>7</td>\n",
              "    </tr>\n",
              "    <tr>\n",
              "      <th>674</th>\n",
              "      <td>1613106011</td>\n",
              "      <td>SHREYANSH  KUMAR</td>\n",
              "      <td>5 mins 44 secs</td>\n",
              "      <td>6</td>\n",
              "    </tr>\n",
              "    <tr>\n",
              "      <th>675</th>\n",
              "      <td>1613106013</td>\n",
              "      <td>SWARNIM  TRIPATHI</td>\n",
              "      <td>10 mins 2 secs</td>\n",
              "      <td>8</td>\n",
              "    </tr>\n",
              "  </tbody>\n",
              "</table>\n",
              "<p>676 rows × 4 columns</p>\n",
              "</div>"
            ],
            "text/plain": [
              "     enrollmentnumber        studentname       Time taken Grade/10.00\n",
              "0          1613101016      AAYUSH  TYAGI   3 mins 11 secs          10\n",
              "1          1613101026           ABHISHEK  17 mins 58 secs          10\n",
              "2          1613101051       ADITI  SINGH  13 mins 35 secs           9\n",
              "3          1613101054     ADITYA  MANKAR  12 mins 18 secs           8\n",
              "4          1613101106       Aman  Pandey   2 mins 35 secs          10\n",
              "..                ...                ...              ...         ...\n",
              "671        1613106005       MAYANK  JAIN   8 mins 49 secs          10\n",
              "672        1613106007      PARTH  SHUKLA   8 mins 47 secs           2\n",
              "673        1613106009      ROBIN  SHARMA  10 mins 52 secs           7\n",
              "674        1613106011   SHREYANSH  KUMAR   5 mins 44 secs           6\n",
              "675        1613106013  SWARNIM  TRIPATHI   10 mins 2 secs           8\n",
              "\n",
              "[676 rows x 4 columns]"
            ]
          },
          "metadata": {
            "tags": []
          },
          "execution_count": 106
        }
      ]
    },
    {
      "cell_type": "code",
      "metadata": {
        "id": "TeXQS30BrNbn",
        "colab_type": "code",
        "colab": {}
      },
      "source": [
        "studentgrade1.drop(columns= 'Time taken', inplace=True)\n",
        "studentgrade2.drop(columns= 'Time taken', inplace=True)\n"
      ],
      "execution_count": 0,
      "outputs": []
    },
    {
      "cell_type": "code",
      "metadata": {
        "id": "kdP12DTet6p0",
        "colab_type": "code",
        "outputId": "d5ab6c0c-7b09-4ef2-87c6-50e675054ae9",
        "colab": {
          "base_uri": "https://localhost:8080/",
          "height": 243
        }
      },
      "source": [
        "print(studentgrade1.head())\n",
        "print('______________________________________________________________________')\n",
        "print(studentgrade2.head())"
      ],
      "execution_count": 0,
      "outputs": [
        {
          "output_type": "stream",
          "text": [
            "   enrollmentnumber     studentname Grade/10.00\n",
            "0        1613101016   AAYUSH  TYAGI           5\n",
            "1        1613101026        ABHISHEK           7\n",
            "2        1613101051    ADITI  SINGH           5\n",
            "3        1613101054  ADITYA  MANKAR           7\n",
            "4        1613101106    Aman  Pandey           5\n",
            "______________________________________________________________________\n",
            "   enrollmentnumber     studentname Grade/10.00\n",
            "0        1613101016   AAYUSH  TYAGI          10\n",
            "1        1613101026        ABHISHEK          10\n",
            "2        1613101051    ADITI  SINGH           9\n",
            "3        1613101054  ADITYA  MANKAR           8\n",
            "4        1613101106    Aman  Pandey          10\n"
          ],
          "name": "stdout"
        }
      ]
    },
    {
      "cell_type": "code",
      "metadata": {
        "id": "iXd2o8RHuHYE",
        "colab_type": "code",
        "colab": {}
      },
      "source": [
        "studentgrade1.rename(columns={'Grade/10.00' : 'Quiz1 Grade'}, inplace=True)\n",
        "studentgrade2.rename(columns={'Grade/10.00' : 'Quiz2 Grade'}, inplace=True)"
      ],
      "execution_count": 0,
      "outputs": []
    },
    {
      "cell_type": "code",
      "metadata": {
        "id": "XaaGOcWn4W1B",
        "colab_type": "code",
        "outputId": "a8e53a06-2dce-41e5-e287-12acbb9de119",
        "colab": {
          "base_uri": "https://localhost:8080/",
          "height": 312
        }
      },
      "source": [
        "print(studentgrade1.head())\n",
        "print(\"                                                   \")\n",
        "print(\"                                                   \")\n",
        "print('--------------------------------------------------------------------')\n",
        "print(\"                                                   \")\n",
        "print(\"                                                   \")\n",
        "print(studentgrade2.head())\n"
      ],
      "execution_count": 0,
      "outputs": [
        {
          "output_type": "stream",
          "text": [
            "   enrollmentnumber     studentname Quiz1 Grade\n",
            "0        1613101016   AAYUSH  TYAGI           5\n",
            "1        1613101026        ABHISHEK           7\n",
            "2        1613101051    ADITI  SINGH           5\n",
            "3        1613101054  ADITYA  MANKAR           7\n",
            "4        1613101106    Aman  Pandey           5\n",
            "                                                   \n",
            "                                                   \n",
            "--------------------------------------------------------------------\n",
            "                                                   \n",
            "                                                   \n",
            "   enrollmentnumber     studentname Quiz2 Grade\n",
            "0        1613101016   AAYUSH  TYAGI          10\n",
            "1        1613101026        ABHISHEK          10\n",
            "2        1613101051    ADITI  SINGH           9\n",
            "3        1613101054  ADITYA  MANKAR           8\n",
            "4        1613101106    Aman  Pandey          10\n"
          ],
          "name": "stdout"
        }
      ]
    },
    {
      "cell_type": "code",
      "metadata": {
        "id": "jxD5nTFo4as6",
        "colab_type": "code",
        "outputId": "79b5c641-a6ef-4cce-a9c7-b32a797df7b6",
        "colab": {
          "base_uri": "https://localhost:8080/",
          "height": 415
        }
      },
      "source": [
        "studentgrade1"
      ],
      "execution_count": 0,
      "outputs": [
        {
          "output_type": "execute_result",
          "data": {
            "text/html": [
              "<div>\n",
              "<style scoped>\n",
              "    .dataframe tbody tr th:only-of-type {\n",
              "        vertical-align: middle;\n",
              "    }\n",
              "\n",
              "    .dataframe tbody tr th {\n",
              "        vertical-align: top;\n",
              "    }\n",
              "\n",
              "    .dataframe thead th {\n",
              "        text-align: right;\n",
              "    }\n",
              "</style>\n",
              "<table border=\"1\" class=\"dataframe\">\n",
              "  <thead>\n",
              "    <tr style=\"text-align: right;\">\n",
              "      <th></th>\n",
              "      <th>enrollmentnumber</th>\n",
              "      <th>studentname</th>\n",
              "      <th>Quiz1 Grade</th>\n",
              "    </tr>\n",
              "  </thead>\n",
              "  <tbody>\n",
              "    <tr>\n",
              "      <th>0</th>\n",
              "      <td>1613101016</td>\n",
              "      <td>AAYUSH  TYAGI</td>\n",
              "      <td>5</td>\n",
              "    </tr>\n",
              "    <tr>\n",
              "      <th>1</th>\n",
              "      <td>1613101026</td>\n",
              "      <td>ABHISHEK</td>\n",
              "      <td>7</td>\n",
              "    </tr>\n",
              "    <tr>\n",
              "      <th>2</th>\n",
              "      <td>1613101051</td>\n",
              "      <td>ADITI  SINGH</td>\n",
              "      <td>5</td>\n",
              "    </tr>\n",
              "    <tr>\n",
              "      <th>3</th>\n",
              "      <td>1613101054</td>\n",
              "      <td>ADITYA  MANKAR</td>\n",
              "      <td>7</td>\n",
              "    </tr>\n",
              "    <tr>\n",
              "      <th>4</th>\n",
              "      <td>1613101106</td>\n",
              "      <td>Aman  Pandey</td>\n",
              "      <td>5</td>\n",
              "    </tr>\n",
              "    <tr>\n",
              "      <th>...</th>\n",
              "      <td>...</td>\n",
              "      <td>...</td>\n",
              "      <td>...</td>\n",
              "    </tr>\n",
              "    <tr>\n",
              "      <th>652</th>\n",
              "      <td>1613113014</td>\n",
              "      <td>VINOD  KUMAR</td>\n",
              "      <td>4</td>\n",
              "    </tr>\n",
              "    <tr>\n",
              "      <th>653</th>\n",
              "      <td>1613106002</td>\n",
              "      <td>Akash  Kumar</td>\n",
              "      <td>7</td>\n",
              "    </tr>\n",
              "    <tr>\n",
              "      <th>654</th>\n",
              "      <td>1613106003</td>\n",
              "      <td>AVINASH KUMAR JAISWAL</td>\n",
              "      <td>10</td>\n",
              "    </tr>\n",
              "    <tr>\n",
              "      <th>655</th>\n",
              "      <td>1613106005</td>\n",
              "      <td>MAYANK  JAIN</td>\n",
              "      <td>8</td>\n",
              "    </tr>\n",
              "    <tr>\n",
              "      <th>656</th>\n",
              "      <td>1613106009</td>\n",
              "      <td>ROBIN  SHARMA</td>\n",
              "      <td>7</td>\n",
              "    </tr>\n",
              "  </tbody>\n",
              "</table>\n",
              "<p>657 rows × 3 columns</p>\n",
              "</div>"
            ],
            "text/plain": [
              "     enrollmentnumber            studentname Quiz1 Grade\n",
              "0          1613101016          AAYUSH  TYAGI           5\n",
              "1          1613101026               ABHISHEK           7\n",
              "2          1613101051           ADITI  SINGH           5\n",
              "3          1613101054         ADITYA  MANKAR           7\n",
              "4          1613101106           Aman  Pandey           5\n",
              "..                ...                    ...         ...\n",
              "652        1613113014           VINOD  KUMAR           4\n",
              "653        1613106002           Akash  Kumar           7\n",
              "654        1613106003  AVINASH KUMAR JAISWAL          10\n",
              "655        1613106005           MAYANK  JAIN           8\n",
              "656        1613106009          ROBIN  SHARMA           7\n",
              "\n",
              "[657 rows x 3 columns]"
            ]
          },
          "metadata": {
            "tags": []
          },
          "execution_count": 115
        }
      ]
    },
    {
      "cell_type": "code",
      "metadata": {
        "id": "hkwT9opx6Bxi",
        "colab_type": "code",
        "colab": {}
      },
      "source": [
        "studentgrade = pd.merge(studentgrade1, studentgrade2, on='studentname')"
      ],
      "execution_count": 0,
      "outputs": []
    },
    {
      "cell_type": "code",
      "metadata": {
        "id": "axv46SfX7MQQ",
        "colab_type": "code",
        "outputId": "6e1db970-5433-478c-cc26-76721f01a5ce",
        "colab": {
          "base_uri": "https://localhost:8080/",
          "height": 415
        }
      },
      "source": [
        "studentgrade"
      ],
      "execution_count": 0,
      "outputs": [
        {
          "output_type": "execute_result",
          "data": {
            "text/html": [
              "<div>\n",
              "<style scoped>\n",
              "    .dataframe tbody tr th:only-of-type {\n",
              "        vertical-align: middle;\n",
              "    }\n",
              "\n",
              "    .dataframe tbody tr th {\n",
              "        vertical-align: top;\n",
              "    }\n",
              "\n",
              "    .dataframe thead th {\n",
              "        text-align: right;\n",
              "    }\n",
              "</style>\n",
              "<table border=\"1\" class=\"dataframe\">\n",
              "  <thead>\n",
              "    <tr style=\"text-align: right;\">\n",
              "      <th></th>\n",
              "      <th>enrollmentnumber_x</th>\n",
              "      <th>studentname</th>\n",
              "      <th>Quiz1 Grade</th>\n",
              "      <th>enrollmentnumber_y</th>\n",
              "      <th>Quiz2 Grade</th>\n",
              "    </tr>\n",
              "  </thead>\n",
              "  <tbody>\n",
              "    <tr>\n",
              "      <th>0</th>\n",
              "      <td>1613101016</td>\n",
              "      <td>AAYUSH  TYAGI</td>\n",
              "      <td>5</td>\n",
              "      <td>1613101016</td>\n",
              "      <td>10</td>\n",
              "    </tr>\n",
              "    <tr>\n",
              "      <th>1</th>\n",
              "      <td>1613101026</td>\n",
              "      <td>ABHISHEK</td>\n",
              "      <td>7</td>\n",
              "      <td>1613101026</td>\n",
              "      <td>10</td>\n",
              "    </tr>\n",
              "    <tr>\n",
              "      <th>2</th>\n",
              "      <td>1613101051</td>\n",
              "      <td>ADITI  SINGH</td>\n",
              "      <td>5</td>\n",
              "      <td>1613101051</td>\n",
              "      <td>9</td>\n",
              "    </tr>\n",
              "    <tr>\n",
              "      <th>3</th>\n",
              "      <td>1613101054</td>\n",
              "      <td>ADITYA  MANKAR</td>\n",
              "      <td>7</td>\n",
              "      <td>1613101054</td>\n",
              "      <td>8</td>\n",
              "    </tr>\n",
              "    <tr>\n",
              "      <th>4</th>\n",
              "      <td>1613101106</td>\n",
              "      <td>Aman  Pandey</td>\n",
              "      <td>5</td>\n",
              "      <td>1613101106</td>\n",
              "      <td>10</td>\n",
              "    </tr>\n",
              "    <tr>\n",
              "      <th>...</th>\n",
              "      <td>...</td>\n",
              "      <td>...</td>\n",
              "      <td>...</td>\n",
              "      <td>...</td>\n",
              "      <td>...</td>\n",
              "    </tr>\n",
              "    <tr>\n",
              "      <th>506</th>\n",
              "      <td>1613113014</td>\n",
              "      <td>VINOD  KUMAR</td>\n",
              "      <td>4</td>\n",
              "      <td>1613113014</td>\n",
              "      <td>7</td>\n",
              "    </tr>\n",
              "    <tr>\n",
              "      <th>507</th>\n",
              "      <td>1613106002</td>\n",
              "      <td>Akash  Kumar</td>\n",
              "      <td>7</td>\n",
              "      <td>1613106002</td>\n",
              "      <td>10</td>\n",
              "    </tr>\n",
              "    <tr>\n",
              "      <th>508</th>\n",
              "      <td>1613106003</td>\n",
              "      <td>AVINASH KUMAR JAISWAL</td>\n",
              "      <td>10</td>\n",
              "      <td>1613106003</td>\n",
              "      <td>8</td>\n",
              "    </tr>\n",
              "    <tr>\n",
              "      <th>509</th>\n",
              "      <td>1613106005</td>\n",
              "      <td>MAYANK  JAIN</td>\n",
              "      <td>8</td>\n",
              "      <td>1613106005</td>\n",
              "      <td>10</td>\n",
              "    </tr>\n",
              "    <tr>\n",
              "      <th>510</th>\n",
              "      <td>1613106009</td>\n",
              "      <td>ROBIN  SHARMA</td>\n",
              "      <td>7</td>\n",
              "      <td>1613106009</td>\n",
              "      <td>7</td>\n",
              "    </tr>\n",
              "  </tbody>\n",
              "</table>\n",
              "<p>511 rows × 5 columns</p>\n",
              "</div>"
            ],
            "text/plain": [
              "     enrollmentnumber_x            studentname  ... enrollmentnumber_y  Quiz2 Grade\n",
              "0            1613101016          AAYUSH  TYAGI  ...         1613101016           10\n",
              "1            1613101026               ABHISHEK  ...         1613101026           10\n",
              "2            1613101051           ADITI  SINGH  ...         1613101051            9\n",
              "3            1613101054         ADITYA  MANKAR  ...         1613101054            8\n",
              "4            1613101106           Aman  Pandey  ...         1613101106           10\n",
              "..                  ...                    ...  ...                ...          ...\n",
              "506          1613113014           VINOD  KUMAR  ...         1613113014            7\n",
              "507          1613106002           Akash  Kumar  ...         1613106002           10\n",
              "508          1613106003  AVINASH KUMAR JAISWAL  ...         1613106003            8\n",
              "509          1613106005           MAYANK  JAIN  ...         1613106005           10\n",
              "510          1613106009          ROBIN  SHARMA  ...         1613106009            7\n",
              "\n",
              "[511 rows x 5 columns]"
            ]
          },
          "metadata": {
            "tags": []
          },
          "execution_count": 117
        }
      ]
    },
    {
      "cell_type": "code",
      "metadata": {
        "id": "p8Y3ujHx7PPb",
        "colab_type": "code",
        "outputId": "7609b1ca-b897-4ce3-fc5e-ad7a11eea1ea",
        "colab": {
          "base_uri": "https://localhost:8080/",
          "height": 415
        }
      },
      "source": [
        "studentgrade.drop(columns='enrollmentnumber_y')"
      ],
      "execution_count": 0,
      "outputs": [
        {
          "output_type": "execute_result",
          "data": {
            "text/html": [
              "<div>\n",
              "<style scoped>\n",
              "    .dataframe tbody tr th:only-of-type {\n",
              "        vertical-align: middle;\n",
              "    }\n",
              "\n",
              "    .dataframe tbody tr th {\n",
              "        vertical-align: top;\n",
              "    }\n",
              "\n",
              "    .dataframe thead th {\n",
              "        text-align: right;\n",
              "    }\n",
              "</style>\n",
              "<table border=\"1\" class=\"dataframe\">\n",
              "  <thead>\n",
              "    <tr style=\"text-align: right;\">\n",
              "      <th></th>\n",
              "      <th>enrollmentnumber_x</th>\n",
              "      <th>studentname</th>\n",
              "      <th>Quiz1 Grade</th>\n",
              "      <th>Quiz2 Grade</th>\n",
              "    </tr>\n",
              "  </thead>\n",
              "  <tbody>\n",
              "    <tr>\n",
              "      <th>0</th>\n",
              "      <td>1613101016</td>\n",
              "      <td>AAYUSH  TYAGI</td>\n",
              "      <td>5</td>\n",
              "      <td>10</td>\n",
              "    </tr>\n",
              "    <tr>\n",
              "      <th>1</th>\n",
              "      <td>1613101026</td>\n",
              "      <td>ABHISHEK</td>\n",
              "      <td>7</td>\n",
              "      <td>10</td>\n",
              "    </tr>\n",
              "    <tr>\n",
              "      <th>2</th>\n",
              "      <td>1613101051</td>\n",
              "      <td>ADITI  SINGH</td>\n",
              "      <td>5</td>\n",
              "      <td>9</td>\n",
              "    </tr>\n",
              "    <tr>\n",
              "      <th>3</th>\n",
              "      <td>1613101054</td>\n",
              "      <td>ADITYA  MANKAR</td>\n",
              "      <td>7</td>\n",
              "      <td>8</td>\n",
              "    </tr>\n",
              "    <tr>\n",
              "      <th>4</th>\n",
              "      <td>1613101106</td>\n",
              "      <td>Aman  Pandey</td>\n",
              "      <td>5</td>\n",
              "      <td>10</td>\n",
              "    </tr>\n",
              "    <tr>\n",
              "      <th>...</th>\n",
              "      <td>...</td>\n",
              "      <td>...</td>\n",
              "      <td>...</td>\n",
              "      <td>...</td>\n",
              "    </tr>\n",
              "    <tr>\n",
              "      <th>506</th>\n",
              "      <td>1613113014</td>\n",
              "      <td>VINOD  KUMAR</td>\n",
              "      <td>4</td>\n",
              "      <td>7</td>\n",
              "    </tr>\n",
              "    <tr>\n",
              "      <th>507</th>\n",
              "      <td>1613106002</td>\n",
              "      <td>Akash  Kumar</td>\n",
              "      <td>7</td>\n",
              "      <td>10</td>\n",
              "    </tr>\n",
              "    <tr>\n",
              "      <th>508</th>\n",
              "      <td>1613106003</td>\n",
              "      <td>AVINASH KUMAR JAISWAL</td>\n",
              "      <td>10</td>\n",
              "      <td>8</td>\n",
              "    </tr>\n",
              "    <tr>\n",
              "      <th>509</th>\n",
              "      <td>1613106005</td>\n",
              "      <td>MAYANK  JAIN</td>\n",
              "      <td>8</td>\n",
              "      <td>10</td>\n",
              "    </tr>\n",
              "    <tr>\n",
              "      <th>510</th>\n",
              "      <td>1613106009</td>\n",
              "      <td>ROBIN  SHARMA</td>\n",
              "      <td>7</td>\n",
              "      <td>7</td>\n",
              "    </tr>\n",
              "  </tbody>\n",
              "</table>\n",
              "<p>511 rows × 4 columns</p>\n",
              "</div>"
            ],
            "text/plain": [
              "     enrollmentnumber_x            studentname Quiz1 Grade Quiz2 Grade\n",
              "0            1613101016          AAYUSH  TYAGI           5          10\n",
              "1            1613101026               ABHISHEK           7          10\n",
              "2            1613101051           ADITI  SINGH           5           9\n",
              "3            1613101054         ADITYA  MANKAR           7           8\n",
              "4            1613101106           Aman  Pandey           5          10\n",
              "..                  ...                    ...         ...         ...\n",
              "506          1613113014           VINOD  KUMAR           4           7\n",
              "507          1613106002           Akash  Kumar           7          10\n",
              "508          1613106003  AVINASH KUMAR JAISWAL          10           8\n",
              "509          1613106005           MAYANK  JAIN           8          10\n",
              "510          1613106009          ROBIN  SHARMA           7           7\n",
              "\n",
              "[511 rows x 4 columns]"
            ]
          },
          "metadata": {
            "tags": []
          },
          "execution_count": 118
        }
      ]
    },
    {
      "cell_type": "code",
      "metadata": {
        "id": "vHoJ4kEi_UJ_",
        "colab_type": "code",
        "colab": {}
      },
      "source": [
        "studentgrade['Quiz1 Grade']= studentgrade['Quiz1 Grade'].apply(pd.to_numeric,errors=\"coerce\")\n",
        "studentgrade['Quiz2 Grade']= studentgrade['Quiz2 Grade'].apply(pd.to_numeric,errors=\"coerce\")"
      ],
      "execution_count": 0,
      "outputs": []
    },
    {
      "cell_type": "code",
      "metadata": {
        "id": "MdgDZF2-_JWp",
        "colab_type": "code",
        "colab": {}
      },
      "source": [
        "studentgrade = studentgrade.drop(columns='enrollmentnumber_y')"
      ],
      "execution_count": 0,
      "outputs": []
    },
    {
      "cell_type": "code",
      "metadata": {
        "id": "9EDjPhnZAKpo",
        "colab_type": "code",
        "colab": {}
      },
      "source": [
        "studentgrade = studentgrade.drop(columns='enrollmentnumber_x')"
      ],
      "execution_count": 0,
      "outputs": []
    },
    {
      "cell_type": "code",
      "metadata": {
        "id": "mlafsagSAreB",
        "colab_type": "code",
        "colab": {}
      },
      "source": [
        ""
      ],
      "execution_count": 0,
      "outputs": []
    },
    {
      "cell_type": "code",
      "metadata": {
        "id": "09A7OKKyA9Bn",
        "colab_type": "code",
        "outputId": "3001851f-4af5-4277-d992-b12628940cd3",
        "colab": {
          "base_uri": "https://localhost:8080/",
          "height": 260
        }
      },
      "source": [
        "Grade_Qz1 = []\n",
        "for grade in studentgrade['Quiz1 Grade']:\n",
        "        if grade > 9:    Grade_Qz1.append('A')\n",
        "        elif grade > 8:  Grade_Qz1.append('A-')\n",
        "        elif grade > 7:  Grade_Qz1.append('B')\n",
        "        elif grade > 6:  Grade_Qz1.append('B-')\n",
        "        elif grade > 5:  Grade_Qz1.append('C')\n",
        "        elif grade > 4:  Grade_Qz1.append('C-')\n",
        "        elif grade > 3:  Grade_Qz1.append('D')\n",
        "        elif grade > 2:  Grade_Qz1.append('D-')\n",
        "        else:           Grade_Qz1.append('Failed')\n",
        "studentgrade['Grade Qz1'] = Grade_Qz1\n",
        "print(studentgrade)"
      ],
      "execution_count": 0,
      "outputs": [
        {
          "output_type": "stream",
          "text": [
            "               studentname  Quiz1 Grade  Quiz2 Grade Grade Qz1\n",
            "0            AAYUSH  TYAGI          5.0         10.0        C-\n",
            "1                 ABHISHEK          7.0         10.0        B-\n",
            "2             ADITI  SINGH          5.0          9.0        C-\n",
            "3           ADITYA  MANKAR          7.0          8.0        B-\n",
            "4             Aman  Pandey          5.0         10.0        C-\n",
            "..                     ...          ...          ...       ...\n",
            "506           VINOD  KUMAR          4.0          7.0         D\n",
            "507           Akash  Kumar          7.0         10.0        B-\n",
            "508  AVINASH KUMAR JAISWAL         10.0          8.0         A\n",
            "509           MAYANK  JAIN          8.0         10.0         B\n",
            "510          ROBIN  SHARMA          7.0          7.0        B-\n",
            "\n",
            "[511 rows x 4 columns]\n"
          ],
          "name": "stdout"
        }
      ]
    },
    {
      "cell_type": "code",
      "metadata": {
        "id": "WzIKSuQ1A_6S",
        "colab_type": "code",
        "outputId": "99e66552-b1ac-4ff1-c3e6-e75aadbed3df",
        "colab": {
          "base_uri": "https://localhost:8080/",
          "height": 260
        }
      },
      "source": [
        "Grade_Qz2 = []\n",
        "for grade in studentgrade['Quiz2 Grade']:\n",
        "        if grade > 9:    Grade_Qz2.append('A')\n",
        "        elif grade > 8:  Grade_Qz2.append('A-')\n",
        "        elif grade > 7:  Grade_Qz2.append('B')\n",
        "        elif grade > 6:  Grade_Qz2.append('B-')\n",
        "        elif grade > 5:  Grade_Qz2.append('C')\n",
        "        elif grade > 4:  Grade_Qz2.append('C-')\n",
        "        elif grade > 3:  Grade_Qz2.append('D')\n",
        "        elif grade > 2:  Grade_Qz2.append('D-')\n",
        "        else:           Grade_Qz2.append('Failed')\n",
        "studentgrade['Grade Qz2'] = Grade_Qz2\n",
        "print(studentgrade)"
      ],
      "execution_count": 0,
      "outputs": [
        {
          "output_type": "stream",
          "text": [
            "               studentname  Quiz1 Grade  Quiz2 Grade Grade Qz1 Grade Qz2\n",
            "0            AAYUSH  TYAGI          5.0         10.0        C-         A\n",
            "1                 ABHISHEK          7.0         10.0        B-         A\n",
            "2             ADITI  SINGH          5.0          9.0        C-        A-\n",
            "3           ADITYA  MANKAR          7.0          8.0        B-         B\n",
            "4             Aman  Pandey          5.0         10.0        C-         A\n",
            "..                     ...          ...          ...       ...       ...\n",
            "506           VINOD  KUMAR          4.0          7.0         D        B-\n",
            "507           Akash  Kumar          7.0         10.0        B-         A\n",
            "508  AVINASH KUMAR JAISWAL         10.0          8.0         A         B\n",
            "509           MAYANK  JAIN          8.0         10.0         B         A\n",
            "510          ROBIN  SHARMA          7.0          7.0        B-        B-\n",
            "\n",
            "[511 rows x 5 columns]\n"
          ],
          "name": "stdout"
        }
      ]
    },
    {
      "cell_type": "code",
      "metadata": {
        "id": "kE7qREemBW8S",
        "colab_type": "code",
        "outputId": "797ad425-fd3e-4515-dfb9-8ea93c39159b",
        "colab": {
          "base_uri": "https://localhost:8080/",
          "height": 202
        }
      },
      "source": [
        "studentgrade.head()"
      ],
      "execution_count": 0,
      "outputs": [
        {
          "output_type": "execute_result",
          "data": {
            "text/html": [
              "<div>\n",
              "<style scoped>\n",
              "    .dataframe tbody tr th:only-of-type {\n",
              "        vertical-align: middle;\n",
              "    }\n",
              "\n",
              "    .dataframe tbody tr th {\n",
              "        vertical-align: top;\n",
              "    }\n",
              "\n",
              "    .dataframe thead th {\n",
              "        text-align: right;\n",
              "    }\n",
              "</style>\n",
              "<table border=\"1\" class=\"dataframe\">\n",
              "  <thead>\n",
              "    <tr style=\"text-align: right;\">\n",
              "      <th></th>\n",
              "      <th>studentname</th>\n",
              "      <th>Quiz1 Grade</th>\n",
              "      <th>Quiz2 Grade</th>\n",
              "      <th>Grade Qz1</th>\n",
              "      <th>Grade Qz2</th>\n",
              "    </tr>\n",
              "  </thead>\n",
              "  <tbody>\n",
              "    <tr>\n",
              "      <th>0</th>\n",
              "      <td>AAYUSH  TYAGI</td>\n",
              "      <td>5.0</td>\n",
              "      <td>10.0</td>\n",
              "      <td>C-</td>\n",
              "      <td>A</td>\n",
              "    </tr>\n",
              "    <tr>\n",
              "      <th>1</th>\n",
              "      <td>ABHISHEK</td>\n",
              "      <td>7.0</td>\n",
              "      <td>10.0</td>\n",
              "      <td>B-</td>\n",
              "      <td>A</td>\n",
              "    </tr>\n",
              "    <tr>\n",
              "      <th>2</th>\n",
              "      <td>ADITI  SINGH</td>\n",
              "      <td>5.0</td>\n",
              "      <td>9.0</td>\n",
              "      <td>C-</td>\n",
              "      <td>A-</td>\n",
              "    </tr>\n",
              "    <tr>\n",
              "      <th>3</th>\n",
              "      <td>ADITYA  MANKAR</td>\n",
              "      <td>7.0</td>\n",
              "      <td>8.0</td>\n",
              "      <td>B-</td>\n",
              "      <td>B</td>\n",
              "    </tr>\n",
              "    <tr>\n",
              "      <th>4</th>\n",
              "      <td>Aman  Pandey</td>\n",
              "      <td>5.0</td>\n",
              "      <td>10.0</td>\n",
              "      <td>C-</td>\n",
              "      <td>A</td>\n",
              "    </tr>\n",
              "  </tbody>\n",
              "</table>\n",
              "</div>"
            ],
            "text/plain": [
              "      studentname  Quiz1 Grade  Quiz2 Grade Grade Qz1 Grade Qz2\n",
              "0   AAYUSH  TYAGI          5.0         10.0        C-         A\n",
              "1        ABHISHEK          7.0         10.0        B-         A\n",
              "2    ADITI  SINGH          5.0          9.0        C-        A-\n",
              "3  ADITYA  MANKAR          7.0          8.0        B-         B\n",
              "4    Aman  Pandey          5.0         10.0        C-         A"
            ]
          },
          "metadata": {
            "tags": []
          },
          "execution_count": 130
        }
      ]
    },
    {
      "cell_type": "code",
      "metadata": {
        "id": "32XBMswNGU9o",
        "colab_type": "code",
        "colab": {}
      },
      "source": [
        ""
      ],
      "execution_count": 0,
      "outputs": []
    }
  ]
}